{
 "cells": [
  {
   "cell_type": "code",
   "execution_count": 16,
   "metadata": {},
   "outputs": [
    {
     "name": "stdout",
     "output_type": "stream",
     "text": [
      "1533562392\n",
      "        id  user_id          address  updatetime   price  distance\n",
      "4  6663788   984216  集賢路269巷徐匯捷運站附..  1533563247  16,000       951\n"
     ]
    }
   ],
   "source": [
    "from bs4 import BeautifulSoup\n",
    "import pandas as pd\n",
    "import requests\n",
    "import json\n",
    "import time\n",
    "import datetime\n",
    "\n",
    "headers = {'User-Agent': 'Mozilla/5.0 (Macintosh; Intel Mac OS X 10_10_1) AppleWebKit/537.36 (KHTML, like Gecko) Chrome/39.0.2171.95 Safari/537.36'}\n",
    "url = \"https://rent.591.com.tw/home/search/rsList?is_new_list=1&type=1&kind=0&searchtype=4&mrtline=232&region=1&mrt=1&mrtcoods=66261&pattern=2\"\n",
    "res = requests.get(url, headers=headers)\n",
    "data = json.loads(res.text)\n",
    "total = int(data['records'])\n",
    "df = pd.DataFrame()\n",
    "for first_index in range(0, total, 30):\n",
    "    paged_url = \"{}&firstRow={}&totalRows={}\".format(url, first_index, total)\n",
    "    res = requests.get(url, headers=headers)\n",
    "    data = json.loads(res.text)\n",
    "    temp_df = pd.DataFrame(data['data']['data'])\n",
    "    df = df.append(temp_df, ignore_index=True)\n",
    "df.drop_duplicates(subset=['id'], inplace=True)\n",
    "df = df[['id', 'user_id', 'address', 'updatetime', 'price', 'distance']]\n",
    "dt = datetime.datetime.now() - datetime.timedelta(hours=1)\n",
    "ts = int(time.mktime(dt.timetuple()))\n",
    "print(ts)\n",
    "print(df[df['updatetime'] > ts])"
   ]
  },
  {
   "cell_type": "code",
   "execution_count": null,
   "metadata": {},
   "outputs": [],
   "source": []
  }
 ],
 "metadata": {
  "kernelspec": {
   "display_name": "Python 3",
   "language": "python",
   "name": "python3"
  },
  "language_info": {
   "codemirror_mode": {
    "name": "ipython",
    "version": 3
   },
   "file_extension": ".py",
   "mimetype": "text/x-python",
   "name": "python",
   "nbconvert_exporter": "python",
   "pygments_lexer": "ipython3",
   "version": "3.7.0"
  }
 },
 "nbformat": 4,
 "nbformat_minor": 2
}
